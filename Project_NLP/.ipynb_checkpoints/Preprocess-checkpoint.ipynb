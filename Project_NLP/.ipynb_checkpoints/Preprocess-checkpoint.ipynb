{
 "cells": [
  {
   "cell_type": "code",
   "execution_count": 18,
   "metadata": {},
   "outputs": [
    {
     "name": "stdout",
     "output_type": "stream",
     "text": [
      "titles length:  12883\n"
     ]
    }
   ],
   "source": [
    "titles = \"\"\n",
    "\n",
    "with open('../Data/title_2019-01-01_2019-01-31.txt', 'r') as f:\n",
    "    titles += f.read()\n",
    "with open('../Data/title_2019-02-01_2019-02-28.txt', 'r') as f:\n",
    "    titles += f.read()\n",
    "with open('../Data/title_2019-03-01_2019-03-31.txt', 'r') as f:\n",
    "    titles += f.read()\n",
    "\n",
    "titles = [title for title in titles.strip().split(\"\\n\")]\n",
    "print(\"titles length: \", len(titles))"
   ]
  },
  {
   "cell_type": "code",
   "execution_count": 19,
   "metadata": {},
   "outputs": [
    {
     "name": "stdout",
     "output_type": "stream",
     "text": [
      "replies length:  12883\n"
     ]
    }
   ],
   "source": [
    "replies = \"\"\n",
    "\n",
    "with open('../Data/reply_2019-01-01_2019-01-31.txt', 'r') as f:\n",
    "    replies += f.read()\n",
    "with open('../Data/reply_2019-02-01_2019-02-28.txt', 'r') as f:\n",
    "    replies += f.read()\n",
    "with open('../Data/reply_2019-03-01_2019-03-31.txt', 'r') as f:\n",
    "    replies += f.read()\n",
    "\n",
    "replies = [eval(reply) for reply in replies.strip().split(\"\\n\")]\n",
    "print(\"replies length: \", len(replies))"
   ]
  },
  {
   "cell_type": "code",
   "execution_count": 15,
   "metadata": {},
   "outputs": [],
   "source": [
    "import re\n",
    "\n",
    "def str_prepro(str):\n",
    "    # https://regex101.com/ -> 정규식 생성 참고\n",
    "    str = re.sub('[a-z0-9.]*@[a-z0-9.]*', ' ', str) # email 제거\n",
    "    str = re.sub('\\([^)]*\\)', ' ', str) # ()괄호및 내용 제거\n",
    "    str = re.sub('\\{[^}]*\\}', ' ', str) # {}괄호및 내용 제거\n",
    "    str = re.sub('\\[[^]]*\\]', ' ', str) # []괄호및 내용 제거\n",
    "    str = re.sub('\\<[^>]*\\>', ' ', str) # <>괄호및 내용 제거\n",
    "    str = re.sub('\\【[^】]*\\】', ' ', str) # 【】괄호및 내용 제거\n",
    "    str = re.sub('[^,.?ㄱ-ㅎ가-힣0-9a-zA-Z\\\\s]', ' ', str) # 한글영어숫자공백,.?제외 제거\n",
    "    str = re.sub('[,\\.][,\\.]+', ',', str) # .... -> , 변환\n",
    "    str = re.sub(',$', '.', str) # 문장 끝 , -> . 변환\n",
    "    str = re.sub(' +', ' ', str) # 공백 여러개 한개로\n",
    "    str = re.sub('^ ', '', str) # 공백 시작 제거\n",
    "    \n",
    "    # 2019-06-05 추가\n",
    "    str = re.sub('ㅋ[ㄱ-ㅎㅏ-ㅣ]*', 'ㅋㅋ', str) # ㅋ으로 시작하는 단어 ㅋㅋ으로 변경\n",
    "    str = re.sub('\\?+ *', '? ', str) # ? 여러개 한개로\n",
    "    str = re.sub('\\. *', '. ', str) # . 뒤의 공백 1개로 통일\n",
    "    str = re.sub(', *', ', ', str) # , 뒤의 공백 1개로 통일\n",
    "    \n",
    "    return str"
   ]
  },
  {
   "cell_type": "code",
   "execution_count": 31,
   "metadata": {},
   "outputs": [],
   "source": [
    "titles = [str_prepro(title) for title in titles]\n",
    "for i, reply in enumerate(replies):\n",
    "    for j, sub_reply in enumerate(reply):\n",
    "        replies[i][j] = str_prepro(sub_reply['text'])"
   ]
  },
  {
   "cell_type": "code",
   "execution_count": 32,
   "metadata": {},
   "outputs": [
    {
     "name": "stdout",
     "output_type": "stream",
     "text": [
      "12882\n",
      "12882\n"
     ]
    }
   ],
   "source": [
    "error = []\n",
    "for i, title in enumerate(titles):\n",
    "    if title==\"\":\n",
    "        error.append(i)\n",
    "for e in reversed(error):\n",
    "    del titles[e]\n",
    "    del replies[e]\n",
    "\n",
    "error = []\n",
    "for i,reply in enumerate(replies):\n",
    "    for j,sub_reply in enumerate(reply):\n",
    "        if sub_reply == \"\":\n",
    "            error.append((i,j))\n",
    "for i,j in reversed(error):\n",
    "    del replies[i][j]\n",
    "    \n",
    "print(len(titles))\n",
    "print(len(replies))"
   ]
  },
  {
   "cell_type": "code",
   "execution_count": 44,
   "metadata": {},
   "outputs": [],
   "source": [
    "# Read\n",
    "with open('../Data/titles.txt', 'r') as f:\n",
    "    titles = eval(f.read().strip())\n",
    "with open('../Data/replies.txt', 'r') as f:\n",
    "    replies = eval(f.read().strip())"
   ]
  },
  {
   "cell_type": "code",
   "execution_count": 34,
   "metadata": {},
   "outputs": [],
   "source": [
    "# Write\n",
    "with open('../Data/titles.txt', 'w') as f:\n",
    "    f.write(str(titles))\n",
    "with open('../Data/replies.txt', 'w') as f:\n",
    "    f.write(str(replies))"
   ]
  },
  {
   "cell_type": "code",
   "execution_count": 43,
   "metadata": {},
   "outputs": [],
   "source": [
    "replies = [reply[0] for reply in replies]\n",
    "with open('../Data/titles-best.txt', 'w') as f:\n",
    "    f.write(str(titles))\n",
    "with open('../Data/replies-best.txt', 'w') as f:\n",
    "    f.write(str(replies))"
   ]
  },
  {
   "cell_type": "code",
   "execution_count": 48,
   "metadata": {},
   "outputs": [
    {
     "name": "stdout",
     "output_type": "stream",
     "text": [
      "105049\n",
      "105049\n"
     ]
    }
   ],
   "source": [
    "titles_all = []\n",
    "replies_all = []\n",
    "for idx, reply in enumerate(replies):\n",
    "    for sub_reply in reply:\n",
    "        titles_all.append(titles[idx])\n",
    "        replies_all.append(sub_reply)\n",
    "titles = titles_all\n",
    "replies = replies_all"
   ]
  },
  {
   "cell_type": "code",
   "execution_count": null,
   "metadata": {},
   "outputs": [],
   "source": []
  }
 ],
 "metadata": {
  "kernelspec": {
   "display_name": "Python 3",
   "language": "python",
   "name": "python3"
  },
  "language_info": {
   "codemirror_mode": {
    "name": "ipython",
    "version": 3
   },
   "file_extension": ".py",
   "mimetype": "text/x-python",
   "name": "python",
   "nbconvert_exporter": "python",
   "pygments_lexer": "ipython3",
   "version": "3.6.7"
  }
 },
 "nbformat": 4,
 "nbformat_minor": 2
}
