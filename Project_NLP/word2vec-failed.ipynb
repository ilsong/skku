{
 "cells": [
  {
   "cell_type": "code",
   "execution_count": 2,
   "metadata": {},
   "outputs": [
    {
     "name": "stdout",
     "output_type": "stream",
     "text": [
      "[name: \"/device:CPU:0\"\n",
      "device_type: \"CPU\"\n",
      "memory_limit: 268435456\n",
      "locality {\n",
      "}\n",
      "incarnation: 14780776238477975592\n",
      ", name: \"/device:GPU:0\"\n",
      "device_type: \"GPU\"\n",
      "memory_limit: 185139200\n",
      "locality {\n",
      "  bus_id: 1\n",
      "  links {\n",
      "  }\n",
      "}\n",
      "incarnation: 4183721363818084659\n",
      "physical_device_desc: \"device: 0, name: GeForce GTX 1070 Ti, pci bus id: 0000:04:00.0, compute capability: 6.1\"\n",
      "]\n"
     ]
    }
   ],
   "source": [
    "#-*- coding: utf-8 -*-\n",
    "import sys, os\n",
    "import tensorflow as tf\n",
    "from __future__ import print_function\n",
    "from keras.models import Model\n",
    "from keras.layers import Input, LSTM, Dense\n",
    "import numpy as np\n",
    "from gensim.models import Word2Vec\n",
    "\n",
    "os.environ[\"CUDA_DEVICE_ORDER\"]=\"PCI_BUS_ID\"   \n",
    "os.environ[\"CUDA_VISIBLE_DEVICES\"]=\"1\"\n",
    "config = tf.ConfigProto()\n",
    "config.gpu_options.allow_growth = True\n",
    "sess= tf.Session(config=config)\n",
    "\n",
    "from tensorflow.python.client import device_lib\n",
    "print (device_lib.list_local_devices())"
   ]
  },
  {
   "cell_type": "code",
   "execution_count": 5,
   "metadata": {},
   "outputs": [],
   "source": [
    "batch_size = 1  # Batch size for training.\n",
    "epochs = 1  # Number of epochs to train for.\n",
    "latent_dim = 256  # Latent dimensionality of the encoding space.\n",
    "# Path to the data txt file on disk.\n",
    "title_path = 'title.txt'\n",
    "reply_path = 'reply.txt'"
   ]
  },
  {
   "cell_type": "code",
   "execution_count": 69,
   "metadata": {},
   "outputs": [],
   "source": [
    "# 데이터 불러오기\n",
    "with open(title_path, 'r', encoding='utf-8') as f:\n",
    "    titles = f.read().strip().split(\"\\n\")\n",
    "with open(reply_path, 'r', encoding='utf-8') as f:\n",
    "    replies = eval(f.read().strip())"
   ]
  },
  {
   "cell_type": "code",
   "execution_count": 70,
   "metadata": {},
   "outputs": [
    {
     "name": "stdout",
     "output_type": "stream",
     "text": [
      "total title len:  4055\n",
      "total reply len:  4055\n"
     ]
    }
   ],
   "source": [
    "# 댓글 text가 비어있는거 삭제 & pos tagging\n",
    "error = []\n",
    "for i, reply in enumerate(replies):\n",
    "    for j, sub_reply in enumerate(reply):\n",
    "        if sub_reply['text'] == \"\":\n",
    "            print(\"error on: \", sub_reply, i, j)\n",
    "            error.append((i,j))\n",
    "        else:\n",
    "            sub_reply['text'] = \"<start>\" + sub_reply['text'] + \"<end>\"\n",
    "for i,j in list(reversed(error)):\n",
    "    del replies[i][j]\n",
    "\n",
    "if error:\n",
    "    with open(reply_path, 'w', encoding='utf-8') as f:\n",
    "        f.write(str(replies))\n",
    "        \n",
    "print(\"total title len: \", len(titles))\n",
    "print(\"total reply len: \", len(replies))"
   ]
  },
  {
   "cell_type": "code",
   "execution_count": 76,
   "metadata": {},
   "outputs": [
    {
     "name": "stdout",
     "output_type": "stream",
     "text": [
      "title morphs len:  7802\n",
      "reply morphs len:  29525\n"
     ]
    }
   ],
   "source": [
    "from konlpy.tag import Komoran\n",
    "tag = Komoran()\n",
    "\n",
    "# 형태소 분석\n",
    "title_morphs = set()\n",
    "reply_morphs = set()\n",
    "\n",
    "for title in titles:\n",
    "    for morph in tag.morphs(title):\n",
    "        title_morphs.add(morph)\n",
    "    \n",
    "for reply in replies:\n",
    "    for sub_reply in reply:\n",
    "        for morph in tag.morphs(sub_reply['text']):\n",
    "            reply_morphs.add(morph)\n",
    "        \n",
    "print(\"title morphs len: \", len(title_morphs))\n",
    "print(\"reply morphs len: \", len(reply_morphs))"
   ]
  },
  {
   "cell_type": "code",
   "execution_count": 74,
   "metadata": {},
   "outputs": [
    {
     "name": "stdout",
     "output_type": "stream",
     "text": [
      "정밀안전진단 놓고 4개월째 다툼…방치된 균열 건물\n"
     ]
    }
   ],
   "source": []
  },
  {
   "cell_type": "code",
   "execution_count": null,
   "metadata": {},
   "outputs": [],
   "source": [
    "train_x = []\n",
    "train_y = []\n",
    "target_y = []\n",
    "start_tag = wvmodel.wv['<start>']\n",
    "end_tag = wvmodel.wv['<end>']\n",
    "\n",
    "for line in body:\n",
    "    vector_x = []\n",
    "    for morph in line:\n",
    "        try:\n",
    "            vector_x.append(wvmodel.wv[morph])\n",
    "        except:\n",
    "            pass\n",
    "    train_x.append(vector_x)\n",
    "    \n",
    "for line in reply:\n",
    "    vector_y = [start_tag]\n",
    "    for morph in line:\n",
    "        try:\n",
    "            vector_y.append(wvmodel.wv[morph])\n",
    "        except:\n",
    "            pass\n",
    "    vector_y.append(end_tag)\n",
    "    train_y.append(vector_y)\n",
    "    target_y.append(vector_y[1:])"
   ]
  },
  {
   "cell_type": "code",
   "execution_count": null,
   "metadata": {},
   "outputs": [],
   "source": [
    "num_tokens = 100 # vector length\n",
    "num_samples = len(body)  # Number of samples to train on.\n",
    "proportion_x = 0.95\n",
    "proportion_y = 1\n",
    "\n",
    "train_x_len_list = sorted([len(x) for x in train_x])\n",
    "train_y_len_list = sorted([len(y) for y in train_y])\n",
    "max_encoder_seq_length = train_x_len_list[-1]\n",
    "max_decoder_seq_length = train_y_len_list[-1]\n",
    "maxlen_x = train_x_len_list[int(len(train_x_len_list)*proportion_x)-1]\n",
    "maxlen_y = train_y_len_list[int(len(train_y_len_list)*proportion_y)-1]\n",
    "\n",
    "print('Number of samples:', num_samples)\n",
    "print(\"num_tokens: \", num_tokens)\n",
    "print(\"max_encoder_seq_length: \", max_encoder_seq_length)\n",
    "print(\"max_decoder_seq_length: \", max_decoder_seq_length)\n",
    "print(\"maxlen x: \", maxlen_x)\n",
    "print(\"maxlen y: \", maxlen_y)"
   ]
  },
  {
   "cell_type": "code",
   "execution_count": null,
   "metadata": {},
   "outputs": [],
   "source": [
    "from keras.preprocessing import sequence\n",
    "from keras import backend as K\n",
    "\n",
    "encoder_input_data = sequence.pad_sequences(train_x, padding='post', maxlen=maxlen_x, dtype=K.floatx())\n",
    "decoder_input_data = sequence.pad_sequences(train_y, padding='post', maxlen=maxlen_y, dtype=K.floatx())\n",
    "decoder_target_data = sequence.pad_sequences(target_y, padding='post', maxlen=maxlen_y, dtype=K.floatx())\n",
    "\n",
    "print(\"encoder_input_data shape: \", encoder_input_data.shape)\n",
    "print(\"decoder_input_data shape: \", decoder_input_data.shape)\n",
    "print(\"decoder_target_data shape: \", decoder_target_data.shape)"
   ]
  },
  {
   "cell_type": "code",
   "execution_count": null,
   "metadata": {},
   "outputs": [],
   "source": [
    "# Define an input sequence and process it.\n",
    "encoder_inputs = Input(shape=(None, num_tokens))\n",
    "encoder = LSTM(latent_dim, return_state=True)\n",
    "encoder_outputs, state_h, state_c = encoder(encoder_inputs)\n",
    "# We discard `encoder_outputs` and only keep the states.\n",
    "encoder_states = [state_h, state_c]"
   ]
  },
  {
   "cell_type": "code",
   "execution_count": null,
   "metadata": {},
   "outputs": [],
   "source": [
    "# Set up the decoder, using `encoder_states` as initial state.\n",
    "decoder_inputs = Input(shape=(None, num_tokens))\n",
    "# We set up our decoder to return full output sequences,\n",
    "# and to return internal states as well. We don't use the\n",
    "# return states in the training model, but we will use them in inference.\n",
    "decoder_lstm = LSTM(latent_dim, return_sequences=True, return_state=True)\n",
    "decoder_outputs, _, _ = decoder_lstm(decoder_inputs,\n",
    "                                     initial_state=encoder_states)\n",
    "decoder_dense = Dense(num_tokens, activation='linear')\n",
    "decoder_outputs = decoder_dense(decoder_outputs)"
   ]
  },
  {
   "cell_type": "code",
   "execution_count": null,
   "metadata": {},
   "outputs": [],
   "source": [
    "# Define the model that will turn\n",
    "# `encoder_input_data` & `decoder_input_data` into `decoder_target_data`\n",
    "model = Model([encoder_inputs, decoder_inputs], decoder_outputs)\n",
    "model.summary()"
   ]
  },
  {
   "cell_type": "code",
   "execution_count": null,
   "metadata": {},
   "outputs": [],
   "source": [
    "# Run training\n",
    "model.compile(optimizer='rmsprop', loss='mse')\n",
    "model.fit([encoder_input_data, decoder_input_data], decoder_target_data,\n",
    "          batch_size=batch_size,\n",
    "          epochs=epochs,\n",
    "          validation_split=0.2)\n",
    "# Save model\n",
    "# model.save('s2s.h5')"
   ]
  },
  {
   "cell_type": "code",
   "execution_count": null,
   "metadata": {},
   "outputs": [],
   "source": [
    "# Next: inference mode (sampling).\n",
    "# Here's the drill:\n",
    "# 1) encode input and retrieve initial decoder state\n",
    "# 2) run one step of decoder with this initial state\n",
    "# and a \"start of sequence\" token as target.\n",
    "# Output will be the next target token\n",
    "# 3) Repeat with the current target token and current states\n",
    "\n",
    "# Define sampling models\n",
    "encoder_model = Model(encoder_inputs, encoder_states)\n",
    "\n",
    "decoder_state_input_h = Input(shape=(latent_dim,))\n",
    "decoder_state_input_c = Input(shape=(latent_dim,))\n",
    "decoder_states_inputs = [decoder_state_input_h, decoder_state_input_c]\n",
    "decoder_outputs, state_h, state_c = decoder_lstm(\n",
    "    decoder_inputs, initial_state=decoder_states_inputs)\n",
    "decoder_states = [state_h, state_c]\n",
    "decoder_outputs = decoder_dense(decoder_outputs)\n",
    "decoder_model = Model(\n",
    "    [decoder_inputs] + decoder_states_inputs,\n",
    "    [decoder_outputs] + decoder_states)"
   ]
  },
  {
   "cell_type": "code",
   "execution_count": null,
   "metadata": {},
   "outputs": [],
   "source": [
    "def decode_sequence(input_seq):\n",
    "    # Encode the input as state vectors.\n",
    "    states_value = encoder_model.predict(input_seq)\n",
    "\n",
    "    # Generate empty target sequence of length 1.\n",
    "    target_seq = np.zeros((1, 1, num_tokens))\n",
    "    # Populate the first character of target sequence with the start character.\n",
    "    target_seq[0, 0] = start_tag\n",
    "\n",
    "    # Sampling loop for a batch of sequences\n",
    "    # (to simplify, here we assume a batch of size 1).\n",
    "    stop_condition = False\n",
    "    decoded_sentence = ''\n",
    "    while not stop_condition:\n",
    "        output_tokens, h, c = decoder_model.predict(\n",
    "            [target_seq] + states_value)\n",
    "\n",
    "        # Sample a token\n",
    "        sampled_token_vector = output_tokens[0, 0, :]\n",
    "        sampled_word, _ = wvmodel.wv.most_similar(positive=[sampled_token_vector], topn=1)[0]\n",
    "        decoded_sentence += sampled_word\n",
    "\n",
    "        # Exit condition: either hit max length\n",
    "        # or find stop character.\n",
    "        if (sampled_word == '<end>' or\n",
    "           len(decoded_sentence) > max_decoder_seq_length):\n",
    "            stop_condition = True\n",
    "\n",
    "        # Update the target sequence (of length 1).\n",
    "        target_seq = np.zeros((1, 1, num_tokens))\n",
    "        target_seq[0, 0] = sampled_token_vector\n",
    "\n",
    "        # Update states\n",
    "        states_value = [h, c]\n",
    "\n",
    "    return decoded_sentence"
   ]
  },
  {
   "cell_type": "code",
   "execution_count": null,
   "metadata": {},
   "outputs": [],
   "source": [
    "idx = 1\n",
    "b = model.predict([train_x[idx:idx+1], train_y[0:1]])\n",
    "for i in range(10):\n",
    "    print(wvmodel.wv.most_similar(positive=[train_y[idx][i]], topn=1))\n",
    "print()\n",
    "for i in range(10):\n",
    "    print(wvmodel.wv.most_similar(positive=[b[0][i]], topn=1))"
   ]
  },
  {
   "cell_type": "code",
   "execution_count": null,
   "metadata": {},
   "outputs": [],
   "source": [
    "for seq_index in range(100):\n",
    "    # Take one sequence (part of the training set)\n",
    "    # for trying out decoding.\n",
    "    input_seq = encoder_input_data[seq_index: seq_index + 1]\n",
    "    decoded_sentence = decode_sequence(input_seq)\n",
    "    print('-')\n",
    "    #print('Input sentence:', body[seq_index])\n",
    "    print('Decoded sentence:', decoded_sentence)\n",
    "    #print('Target sentence:', reply[seq_index])"
   ]
  },
  {
   "cell_type": "code",
   "execution_count": null,
   "metadata": {},
   "outputs": [],
   "source": []
  }
 ],
 "metadata": {
  "kernelspec": {
   "display_name": "Python 3",
   "language": "python",
   "name": "python3"
  },
  "language_info": {
   "codemirror_mode": {
    "name": "ipython",
    "version": 3
   },
   "file_extension": ".py",
   "mimetype": "text/x-python",
   "name": "python",
   "nbconvert_exporter": "python",
   "pygments_lexer": "ipython3",
   "version": "3.6.7"
  }
 },
 "nbformat": 4,
 "nbformat_minor": 2
}
